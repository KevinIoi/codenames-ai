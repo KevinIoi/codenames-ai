{
 "cells": [
  {
   "cell_type": "code",
   "execution_count": 1,
   "metadata": {},
   "outputs": [],
   "source": [
    "DATAPATH = \"../resources/\"\n",
    "\n",
    "import numpy as np\n",
    "import json\n",
    "from tqdm import tqdm "
   ]
  },
  {
   "cell_type": "markdown",
   "metadata": {},
   "source": [
    "# Enviroment Setup"
   ]
  },
  {
   "cell_type": "code",
   "execution_count": 2,
   "metadata": {},
   "outputs": [],
   "source": [
    "# Distance Funcs\n",
    "\n",
    "def cosine_dist(x, y):\n",
    "    return np.dot(x, y) / (np.sqrt(np.dot(x, x)) * np.sqrt(np.dot(y, y)))\n",
    "\n",
    "def euc_dist(x,y):\n",
    "    return np.sqrt(np.sum((x - y) ** 2))"
   ]
  },
  {
   "cell_type": "code",
   "execution_count": 3,
   "metadata": {},
   "outputs": [
    {
     "name": "stderr",
     "output_type": "stream",
     "text": [
      " 53%|█████▎    | 210239/400000 [00:23<00:22, 8482.59it/s] "
     ]
    },
    {
     "ename": "KeyboardInterrupt",
     "evalue": "",
     "output_type": "error",
     "traceback": [
      "\u001b[0;31m---------------------------------------------------------------------------\u001b[0m",
      "\u001b[0;31mKeyboardInterrupt\u001b[0m                         Traceback (most recent call last)",
      "\u001b[0;32m<ipython-input-3-5d97ea362b48>\u001b[0m in \u001b[0;36m<module>\u001b[0;34m\u001b[0m\n\u001b[1;32m      4\u001b[0m \u001b[0;32mwith\u001b[0m \u001b[0mopen\u001b[0m\u001b[0;34m(\u001b[0m\u001b[0;34mf'{DATAPATH}glove.6B.300d.txt'\u001b[0m\u001b[0;34m,\u001b[0m\u001b[0mencoding\u001b[0m\u001b[0;34m=\u001b[0m\u001b[0;34m\"utf8\"\u001b[0m\u001b[0;34m)\u001b[0m \u001b[0;32mas\u001b[0m \u001b[0mfp\u001b[0m\u001b[0;34m:\u001b[0m\u001b[0;34m\u001b[0m\u001b[0;34m\u001b[0m\u001b[0m\n\u001b[1;32m      5\u001b[0m     \u001b[0;32mfor\u001b[0m \u001b[0mline\u001b[0m \u001b[0;32min\u001b[0m \u001b[0mtqdm\u001b[0m\u001b[0;34m(\u001b[0m\u001b[0mfp\u001b[0m\u001b[0;34m,\u001b[0m\u001b[0mtotal\u001b[0m\u001b[0;34m=\u001b[0m\u001b[0;36m400000\u001b[0m\u001b[0;34m)\u001b[0m\u001b[0;34m:\u001b[0m\u001b[0;34m\u001b[0m\u001b[0;34m\u001b[0m\u001b[0m\n\u001b[0;32m----> 6\u001b[0;31m         \u001b[0mvalues\u001b[0m \u001b[0;34m=\u001b[0m \u001b[0mline\u001b[0m\u001b[0;34m.\u001b[0m\u001b[0msplit\u001b[0m\u001b[0;34m(\u001b[0m\u001b[0;34m)\u001b[0m\u001b[0;34m\u001b[0m\u001b[0;34m\u001b[0m\u001b[0m\n\u001b[0m\u001b[1;32m      7\u001b[0m         \u001b[0mword\u001b[0m \u001b[0;34m=\u001b[0m \u001b[0mvalues\u001b[0m\u001b[0;34m[\u001b[0m\u001b[0;36m0\u001b[0m\u001b[0;34m]\u001b[0m\u001b[0;34m\u001b[0m\u001b[0;34m\u001b[0m\u001b[0m\n\u001b[1;32m      8\u001b[0m         \u001b[0mcoefs\u001b[0m \u001b[0;34m=\u001b[0m \u001b[0mnp\u001b[0m\u001b[0;34m.\u001b[0m\u001b[0masarray\u001b[0m\u001b[0;34m(\u001b[0m\u001b[0mvalues\u001b[0m\u001b[0;34m[\u001b[0m\u001b[0;36m1\u001b[0m\u001b[0;34m:\u001b[0m\u001b[0;34m]\u001b[0m\u001b[0;34m,\u001b[0m \u001b[0mdtype\u001b[0m\u001b[0;34m=\u001b[0m\u001b[0;34m'float32'\u001b[0m\u001b[0;34m)\u001b[0m\u001b[0;34m\u001b[0m\u001b[0;34m\u001b[0m\u001b[0m\n",
      "\u001b[0;31mKeyboardInterrupt\u001b[0m: "
     ]
    }
   ],
   "source": [
    "# Load embeddings \n",
    "embeddings_index = dict()\n",
    "\n",
    "with open(f'{DATAPATH}glove.6B.300d.txt',encoding=\"utf8\") as fp:\n",
    "    for line in tqdm(fp,total=400000):\n",
    "        values = line.split()\n",
    "        word = values[0]\n",
    "        coefs = np.asarray(values[1:], dtype='float32')\n",
    "        embeddings_index[word] = coefs\n",
    "\n",
    "word_vec = embeddings_index"
   ]
  },
  {
   "cell_type": "code",
   "execution_count": null,
   "metadata": {},
   "outputs": [],
   "source": [
    "len(word_vec)"
   ]
  },
  {
   "cell_type": "code",
   "execution_count": null,
   "metadata": {},
   "outputs": [],
   "source": [
    "# Load game words\n",
    "with open(f\"{DATAPATH}lexicon.txt\",'r') as fp:\n",
    "    lexicon = json.load(fp)"
   ]
  },
  {
   "cell_type": "markdown",
   "metadata": {},
   "source": [
    "# Game Functions"
   ]
  },
  {
   "cell_type": "code",
   "execution_count": 3,
   "metadata": {},
   "outputs": [],
   "source": [
    "# utils\n",
    "\n",
    "def strikeout(word):\n",
    "    ''' Creates a strikethrough font in terminal '''\n",
    "    newWord = []\n",
    "    for char in word:\n",
    "        newWord.append(\"\\u0336\"+char)\n",
    "    return \"\".join(newWord)\n",
    "\n",
    "# Distance Funcs\n",
    "def cosine_dist(x, y):\n",
    "    return np.dot(x, y) / (np.sqrt(np.dot(x, x)) * np.sqrt(np.dot(y, y)))\n",
    "\n",
    "def euc_dist(x,y):\n",
    "    return np.sqrt(np.sum((x - y) ** 2))"
   ]
  },
  {
   "cell_type": "code",
   "execution_count": 4,
   "metadata": {},
   "outputs": [],
   "source": [
    "# exceptions\n",
    "\n",
    "class InvalidBoardException(Exception):\n",
    "    def __init__(self, message):\n",
    "        super().__init__()\n",
    "        self.message = \"InvalidBoardException: \" + message\n",
    "    def __str__(self):\n",
    "        return self.message\n",
    "    \n",
    "class InvalidGuessException(Exception):\n",
    "    def __init__(self, message):\n",
    "        super().__init__()\n",
    "        self.message = \"InvalidGuessException: \" + message\n",
    "    def __str__(self):\n",
    "        return self.message"
   ]
  },
  {
   "cell_type": "code",
   "execution_count": 13,
   "metadata": {},
   "outputs": [],
   "source": [
    "TGREEN =  '\\033[32m'\n",
    "TRED =  '\\033[31m'\n",
    "RESETC = '\\033[m'\n",
    "\n",
    "class Board(object):\n",
    "    \n",
    "    def __init__(self, game_words,targets, bombs):\n",
    "        self.setGameWords(game_words)\n",
    "        self.setTargets(targets)    \n",
    "        self.setBombs(bombs)\n",
    "        self.guessedWords = []\n",
    "        \n",
    "    def setGameWords(self, words):\n",
    "        ''' setter for full list of game words'''\n",
    "        set_size = len(words)\n",
    "        if int((set_size**0.5 + 0.5)**2) != set_size:# round about way to verify square gridsize\n",
    "            raise InvalidBoardException(\"Game words can not be fit into square grid\") \n",
    "        if len(set(words)) != len(words):# make sure no duplicate words\n",
    "            raise InvalidBoardException(\"Duplicate game words on board\")\n",
    "        self.words = words\n",
    "            \n",
    "    def setTargets(self, targets):\n",
    "        ''' setter for target words '''\n",
    "        if len(set(bombs)) != len(bombs):# make sure no duplicate words\n",
    "            raise InvalidBoardException(\"Duplicate words in bomb set\")\n",
    "        self.targets = targets\n",
    "    \n",
    "    def setBombs(self, bombs):\n",
    "        ''' setter for bomb words '''\n",
    "        if len(set(bombs)) != len(bombs):# make sure no duplicate words\n",
    "            raise InvalidBoardException(\"Duplicate words in bomb set\")\n",
    "        if any(word in bombs for word in self.targets):\n",
    "            raise InvalidBoardException(f\"Overlapping target and bomb sets\\n{self.targets}\\n{self.bombs}\") \n",
    "        self.bombs = bombs\n",
    "        \n",
    "    def addGuess(self, guess):\n",
    "        if guess not in self.getGameWords():\n",
    "            raise InvalidGuessException(\"Guessed word is not on the board\")\n",
    "        if guess in self.getGuessWords():\n",
    "            raise InvalidGuessException(\"Guessed word has already been guessed\")\n",
    "        self.guessedWords.append(guess)\n",
    "    \n",
    "    def getTargets(self, remaining=False):\n",
    "        ''' getter for target words'''\n",
    "        if remaining:# only return words that have not been cleared already\n",
    "            idx = [word not in self.getGuessedWords for word in self.targets]\n",
    "            return self.targets[idx]\n",
    "        else:\n",
    "            return self.targets\n",
    "    \n",
    "    def getBombs(self):\n",
    "        ''' getter for bomb words'''        \n",
    "        return self.bombs\n",
    "    \n",
    "    def getGameWords(self, active=False):\n",
    "        ''' getter for current words on board'''\n",
    "        if active:\n",
    "            return [word for word in self.words if word not in self.getGuessedWords()]\n",
    "        else:\n",
    "            return self.words\n",
    "    \n",
    "    def getGuessedWords(self):\n",
    "        ''' getter for all guessed words'''\n",
    "        return self.guessedWords\n",
    "    \n",
    "    def __str__(self):\n",
    "        ''' converts current gameboard to string format '''\n",
    "        out = ''\n",
    "        rowSize = int(len(self.words)**(0.5))\n",
    "        for rowIdx in range(0, rowSize):\n",
    "            for word in self.getGameWords[rowIdx*rowSize:rowIdx*rowSize+rowSize]:\n",
    "                \n",
    "                #create strikeout font if word has been guessed \n",
    "                if word in self.getGuessedWords():\n",
    "                    writeWord = strikeout(word)\n",
    "                else:\n",
    "                    writeWord = word\n",
    "                \n",
    "                # colourize word based on word set\n",
    "                if word in self.getTargets():\n",
    "                    c = TGREEN\n",
    "                elif word in self.bombs:\n",
    "                    c = TRED\n",
    "                else:\n",
    "                    c = RESETC\n",
    "                    \n",
    "                out = \"\".join([out,c,'{0:<15}'.format(writeWord)])\n",
    "            out = \"\".join([out,'\\n'])\n",
    "        return out"
   ]
  },
  {
   "cell_type": "code",
   "execution_count": 14,
   "metadata": {},
   "outputs": [],
   "source": [
    "class Game(object):\n",
    "    \n",
    "    def __init__(self,board_dim = 5, target_count = 8, bomb_count = 3):\n",
    "        self.gameword_lexicon = self.loadGameWords()\n",
    "        setGameStructure(board_dim, target_count, bomb_count)\n",
    "        self.resetBoard()\n",
    "    \n",
    "    def setGameStructure(board_dim, target_count, bomb_count):\n",
    "        ''' define the parameters of the game '''\n",
    "        self.board_dim = board_dim\n",
    "        self.target_count = target_count\n",
    "        self.bomb_count = bomb_count\n",
    "    \n",
    "    def resetBoard(self):\n",
    "        ''' reset gameboard '''\n",
    "        gamewords = random.choices(lexicon, k = self.board_dim**2)\n",
    "        player_target, player_bomb = self.getTargetBombWords()\n",
    "        comp_target, comp_bomb = self.getTargetBombWords()\n",
    "        \n",
    "        self.player_board = Board(gamewords, player_target, player_bomb)\n",
    "        self.comp_board = Board(gamewords, comp_target, comp_bomb)\n",
    "    \n",
    "    def getTargetBombWords(self):\n",
    "        ''' Randomly select target and bomb words from currect game_word sellection'''\n",
    "        target_words = random.choices(self.gamewords, k=self.target_count)\n",
    "        bomb_words = random.sample(set(self.gamewords).difference(set(self.target_words)), self.bomb_count)\n",
    "        return target_words, bomb_words\n",
    "        \n",
    "    def loadGameWords(self):\n",
    "        ''' loads list of possible game words '''\n",
    "        DATAPATH = \"resources/\"\n",
    "        with open(f\"{DATAPATH}lexicon.txt\",'r') as fp:\n",
    "            gameword_lexicon = json.load(fp)\n",
    "        return gameword_lexicon\n",
    "\n",
    "    def getStrBoard(player):\n",
    "        if player == 0:\n",
    "            return str(self.getPlayerBoard())\n",
    "        elif player == 1:\n",
    "            return str(self.getComBoard())\n",
    "        else:\n",
    "            raise InvalidBoardException(f\"No Board Exists for player {player}\")\n",
    "    # Getters\n",
    "    def getPlayerBoard():\n",
    "        return self.player_board\n",
    "    def getCompBoard():\n",
    "        return self.comp_board"
   ]
  },
  {
   "cell_type": "code",
   "execution_count": 15,
   "metadata": {},
   "outputs": [],
   "source": [
    "class ComputerPlayer(object):\n",
    "    \n",
    "    def __init__(self, ):\n",
    "        self.loadEmbeddings()\n",
    "        \n",
    "    def loadEmbeddings(self):\n",
    "        ''' Prepares embeddings '''\n",
    "        embeddings_index = dict()\n",
    "        with open(f'{DATAPATH}glove.6B.300d.txt',encoding=\"utf8\") as fp:\n",
    "            for line in tqdm(fp,total=400000,position=0, leave=True):\n",
    "                values = line.split()\n",
    "                word = values[0]\n",
    "                coefs = np.asarray(values[1:], dtype='float32')\n",
    "                embeddings_index[word] = coefs\n",
    "        self.word_vecs = embeddings_index\n",
    "    \n",
    "    def evaluateClue(current_board, clue_word, target_count):\n",
    "        ''' Processes a clue provided from other player'''\n",
    "        e_dist = []\n",
    "        c_dist = []\n",
    "\n",
    "        for word in current_board.getGameWords(active=True):\n",
    "            c_dist.append((cosine_dist(self.word_vecs[word], self.word_vecs[clue_word]), word))\n",
    "            e_dist.append((euc_dist(self.word_vecs[word], self.word_vecs[clue_word]), word))\n",
    "\n",
    "        e_dist =sorted(e_dist, key=lambda x: x[0])\n",
    "        c_dist =sorted(c_dist, key=lambda x: x[0], reverse=True)\n",
    "        \n",
    "        topWords = {}\n",
    "        value = 1.0\n",
    "        for eword, cword in zip(e_dist[:target_count+2], c_dist[:target_count+2]):\n",
    "            topWords[eword] += value\n",
    "            topWords[cword] += value*0.75\n",
    "            value = max([0.2, value-0.2])\n",
    "        selected_guesses = sorted(topWords.items(), key=lambda x: x[1])[target_count]\n",
    "        \n",
    "        return [guess[0] for guess in selected_guesses]\n",
    "        \n",
    "    def produceClue(current_bouard):\n",
    "        ''' Creates a clue based on current game board '''\n",
    "        pass"
   ]
  },
  {
   "cell_type": "code",
   "execution_count": 16,
   "metadata": {},
   "outputs": [],
   "source": [
    "class GameMaster(object):\n",
    "    \n",
    "    def __init__(self, *args):\n",
    "        print(\"Preparing Game...\")\n",
    "        self.ai = ComputerPlayer()\n",
    "        self.setNewGame()\n",
    "\n",
    "    def setNewGame(self):\n",
    "        ''' sets board '''\n",
    "        self.current_game = Game()\n",
    "    \n",
    "    def submitClue(clue_word, target_count):\n",
    "        ''' sends clue to ai to predict associated target_words '''\n",
    "\n",
    "        \n",
    "    def getClue():\n",
    "        ''' pulls clue from ai for current target words '''\n",
    "        pass\n",
    "    \n",
    "    def drawBoard(player=0):\n",
    "        return getStrBoard(player)"
   ]
  },
  {
   "cell_type": "code",
   "execution_count": 17,
   "metadata": {},
   "outputs": [
    {
     "name": "stderr",
     "output_type": "stream",
     "text": [
      "  0%|          | 602/400000 [00:00<01:06, 6012.45it/s]"
     ]
    },
    {
     "name": "stdout",
     "output_type": "stream",
     "text": [
      "Preparing Game...\n"
     ]
    },
    {
     "name": "stderr",
     "output_type": "stream",
     "text": [
      "100%|██████████| 400000/400000 [00:59<00:00, 6773.56it/s]\n"
     ]
    },
    {
     "ename": "FileNotFoundError",
     "evalue": "[Errno 2] No such file or directory: 'resources/lexicon.txt'",
     "output_type": "error",
     "traceback": [
      "\u001b[0;31m---------------------------------------------------------------------------\u001b[0m",
      "\u001b[0;31mFileNotFoundError\u001b[0m                         Traceback (most recent call last)",
      "\u001b[0;32m<ipython-input-17-345121e03875>\u001b[0m in \u001b[0;36m<module>\u001b[0;34m\u001b[0m\n\u001b[0;32m----> 1\u001b[0;31m \u001b[0mtest\u001b[0m \u001b[0;34m=\u001b[0m \u001b[0mGameMaster\u001b[0m\u001b[0;34m(\u001b[0m\u001b[0;34m)\u001b[0m\u001b[0;34m\u001b[0m\u001b[0;34m\u001b[0m\u001b[0m\n\u001b[0m",
      "\u001b[0;32m<ipython-input-16-e79aa0767332>\u001b[0m in \u001b[0;36m__init__\u001b[0;34m(self, *args)\u001b[0m\n\u001b[1;32m      4\u001b[0m         \u001b[0mprint\u001b[0m\u001b[0;34m(\u001b[0m\u001b[0;34m\"Preparing Game...\"\u001b[0m\u001b[0;34m)\u001b[0m\u001b[0;34m\u001b[0m\u001b[0;34m\u001b[0m\u001b[0m\n\u001b[1;32m      5\u001b[0m         \u001b[0mself\u001b[0m\u001b[0;34m.\u001b[0m\u001b[0mai\u001b[0m \u001b[0;34m=\u001b[0m \u001b[0mComputerPlayer\u001b[0m\u001b[0;34m(\u001b[0m\u001b[0;34m)\u001b[0m\u001b[0;34m\u001b[0m\u001b[0;34m\u001b[0m\u001b[0m\n\u001b[0;32m----> 6\u001b[0;31m         \u001b[0mself\u001b[0m\u001b[0;34m.\u001b[0m\u001b[0msetNewGame\u001b[0m\u001b[0;34m(\u001b[0m\u001b[0;34m)\u001b[0m\u001b[0;34m\u001b[0m\u001b[0;34m\u001b[0m\u001b[0m\n\u001b[0m\u001b[1;32m      7\u001b[0m \u001b[0;34m\u001b[0m\u001b[0m\n\u001b[1;32m      8\u001b[0m     \u001b[0;32mdef\u001b[0m \u001b[0msetNewGame\u001b[0m\u001b[0;34m(\u001b[0m\u001b[0mself\u001b[0m\u001b[0;34m)\u001b[0m\u001b[0;34m:\u001b[0m\u001b[0;34m\u001b[0m\u001b[0;34m\u001b[0m\u001b[0m\n",
      "\u001b[0;32m<ipython-input-16-e79aa0767332>\u001b[0m in \u001b[0;36msetNewGame\u001b[0;34m(self)\u001b[0m\n\u001b[1;32m      8\u001b[0m     \u001b[0;32mdef\u001b[0m \u001b[0msetNewGame\u001b[0m\u001b[0;34m(\u001b[0m\u001b[0mself\u001b[0m\u001b[0;34m)\u001b[0m\u001b[0;34m:\u001b[0m\u001b[0;34m\u001b[0m\u001b[0;34m\u001b[0m\u001b[0m\n\u001b[1;32m      9\u001b[0m         \u001b[0;34m''' sets board '''\u001b[0m\u001b[0;34m\u001b[0m\u001b[0;34m\u001b[0m\u001b[0m\n\u001b[0;32m---> 10\u001b[0;31m         \u001b[0mself\u001b[0m\u001b[0;34m.\u001b[0m\u001b[0mcurrent_game\u001b[0m \u001b[0;34m=\u001b[0m \u001b[0mGame\u001b[0m\u001b[0;34m(\u001b[0m\u001b[0;34m)\u001b[0m\u001b[0;34m\u001b[0m\u001b[0;34m\u001b[0m\u001b[0m\n\u001b[0m\u001b[1;32m     11\u001b[0m \u001b[0;34m\u001b[0m\u001b[0m\n\u001b[1;32m     12\u001b[0m     \u001b[0;32mdef\u001b[0m \u001b[0msubmitClue\u001b[0m\u001b[0;34m(\u001b[0m\u001b[0mclue_word\u001b[0m\u001b[0;34m,\u001b[0m \u001b[0mtarget_count\u001b[0m\u001b[0;34m)\u001b[0m\u001b[0;34m:\u001b[0m\u001b[0;34m\u001b[0m\u001b[0;34m\u001b[0m\u001b[0m\n",
      "\u001b[0;32m<ipython-input-14-a0e6bb0d5a73>\u001b[0m in \u001b[0;36m__init__\u001b[0;34m(self, board_dim, target_count, bomb_count)\u001b[0m\n\u001b[1;32m      2\u001b[0m \u001b[0;34m\u001b[0m\u001b[0m\n\u001b[1;32m      3\u001b[0m     \u001b[0;32mdef\u001b[0m \u001b[0m__init__\u001b[0m\u001b[0;34m(\u001b[0m\u001b[0mself\u001b[0m\u001b[0;34m,\u001b[0m\u001b[0mboard_dim\u001b[0m \u001b[0;34m=\u001b[0m \u001b[0;36m5\u001b[0m\u001b[0;34m,\u001b[0m \u001b[0mtarget_count\u001b[0m \u001b[0;34m=\u001b[0m \u001b[0;36m8\u001b[0m\u001b[0;34m,\u001b[0m \u001b[0mbomb_count\u001b[0m \u001b[0;34m=\u001b[0m \u001b[0;36m3\u001b[0m\u001b[0;34m)\u001b[0m\u001b[0;34m:\u001b[0m\u001b[0;34m\u001b[0m\u001b[0;34m\u001b[0m\u001b[0m\n\u001b[0;32m----> 4\u001b[0;31m         \u001b[0mself\u001b[0m\u001b[0;34m.\u001b[0m\u001b[0mgameword_lexicon\u001b[0m \u001b[0;34m=\u001b[0m \u001b[0mself\u001b[0m\u001b[0;34m.\u001b[0m\u001b[0mloadGameWords\u001b[0m\u001b[0;34m(\u001b[0m\u001b[0;34m)\u001b[0m\u001b[0;34m\u001b[0m\u001b[0;34m\u001b[0m\u001b[0m\n\u001b[0m\u001b[1;32m      5\u001b[0m         \u001b[0msetGameStructure\u001b[0m\u001b[0;34m(\u001b[0m\u001b[0mboard_dim\u001b[0m\u001b[0;34m,\u001b[0m \u001b[0mtarget_count\u001b[0m\u001b[0;34m,\u001b[0m \u001b[0mbomb_count\u001b[0m\u001b[0;34m)\u001b[0m\u001b[0;34m\u001b[0m\u001b[0;34m\u001b[0m\u001b[0m\n\u001b[1;32m      6\u001b[0m         \u001b[0mself\u001b[0m\u001b[0;34m.\u001b[0m\u001b[0mresetBoard\u001b[0m\u001b[0;34m(\u001b[0m\u001b[0;34m)\u001b[0m\u001b[0;34m\u001b[0m\u001b[0;34m\u001b[0m\u001b[0m\n",
      "\u001b[0;32m<ipython-input-14-a0e6bb0d5a73>\u001b[0m in \u001b[0;36mloadGameWords\u001b[0;34m(self)\u001b[0m\n\u001b[1;32m     30\u001b[0m         \u001b[0;34m''' loads list of possible game words '''\u001b[0m\u001b[0;34m\u001b[0m\u001b[0;34m\u001b[0m\u001b[0m\n\u001b[1;32m     31\u001b[0m         \u001b[0mDATAPATH\u001b[0m \u001b[0;34m=\u001b[0m \u001b[0;34m\"resources/\"\u001b[0m\u001b[0;34m\u001b[0m\u001b[0;34m\u001b[0m\u001b[0m\n\u001b[0;32m---> 32\u001b[0;31m         \u001b[0;32mwith\u001b[0m \u001b[0mopen\u001b[0m\u001b[0;34m(\u001b[0m\u001b[0;34mf\"{DATAPATH}lexicon.txt\"\u001b[0m\u001b[0;34m,\u001b[0m\u001b[0;34m'r'\u001b[0m\u001b[0;34m)\u001b[0m \u001b[0;32mas\u001b[0m \u001b[0mfp\u001b[0m\u001b[0;34m:\u001b[0m\u001b[0;34m\u001b[0m\u001b[0;34m\u001b[0m\u001b[0m\n\u001b[0m\u001b[1;32m     33\u001b[0m             \u001b[0mgameword_lexicon\u001b[0m \u001b[0;34m=\u001b[0m \u001b[0mjson\u001b[0m\u001b[0;34m.\u001b[0m\u001b[0mload\u001b[0m\u001b[0;34m(\u001b[0m\u001b[0mfp\u001b[0m\u001b[0;34m)\u001b[0m\u001b[0;34m\u001b[0m\u001b[0;34m\u001b[0m\u001b[0m\n\u001b[1;32m     34\u001b[0m         \u001b[0;32mreturn\u001b[0m \u001b[0mgameword_lexicon\u001b[0m\u001b[0;34m\u001b[0m\u001b[0;34m\u001b[0m\u001b[0m\n",
      "\u001b[0;31mFileNotFoundError\u001b[0m: [Errno 2] No such file or directory: 'resources/lexicon.txt'"
     ]
    }
   ],
   "source": [
    "test = GameMaster()"
   ]
  },
  {
   "cell_type": "markdown",
   "metadata": {},
   "source": [
    "# Game Setup"
   ]
  },
  {
   "cell_type": "code",
   "execution_count": 48,
   "metadata": {},
   "outputs": [],
   "source": [
    "import random\n",
    "\n",
    "BOARD_DIM = 5\n",
    "TARGET_WORD_COUNT = 8\n",
    "BOMB_WORD_COUNT = 3\n",
    "\n",
    "TGREEN =  '\\033[32m'\n",
    "TRED =  '\\033[31m'\n",
    "RESETC = '\\033[m'"
   ]
  },
  {
   "cell_type": "code",
   "execution_count": 49,
   "metadata": {},
   "outputs": [],
   "source": [
    "session_words = random.choices(lexicon, k=BOARD_DIM**2)\n",
    "target_words = random.choices(session_words, k=TARGET_WORD_COUNT)\n",
    "bomb_words = random.sample(set(session_words).difference(set(target_words)), BOMB_WORD_COUNT)"
   ]
  },
  {
   "cell_type": "code",
   "execution_count": 50,
   "metadata": {},
   "outputs": [
    {
     "name": "stdout",
     "output_type": "stream",
     "text": [
      "\u001b[32mcrust     \u001b[mspare     \u001b[32mportfolio \u001b[mrandom    \u001b[32mjelly     \n",
      "\u001b[mscoundrel \u001b[32mmachine   \u001b[mlightsaber\u001b[mphilosopher\u001b[31melf       \n",
      "\u001b[msheep     \u001b[mregret    \u001b[mspy       \u001b[mcoaster   \u001b[32mmop       \n",
      "\u001b[31mcardboard \u001b[32masleep    \u001b[31mgasoline  \u001b[mwindmill  \u001b[32mriddle    \n",
      "\u001b[mforehead  \u001b[mpajamas   \u001b[mslump     \u001b[32mdinosaur  \u001b[mfortnight \n"
     ]
    }
   ],
   "source": [
    "for rowIdx in range(int(len(session_words)/BOARD_DIM)):\n",
    "    for word in session_words[rowIdx*BOARD_DIM:rowIdx*BOARD_DIM + BOARD_DIM]:\n",
    "        if word in target_words:\n",
    "            c = TGREEN\n",
    "        elif word in bomb_words:\n",
    "            c = TRED\n",
    "        else:\n",
    "            c = RESETC\n",
    "        print(c+'{0:<10}'.format(word), end='')\n",
    "    print()"
   ]
  },
  {
   "cell_type": "code",
   "execution_count": 18,
   "metadata": {},
   "outputs": [
    {
     "name": "stdout",
     "output_type": "stream",
     "text": [
      "liquid\n",
      "          euc dict    |      cosine dist\n",
      "********************************************\n",
      "((7.432392, 'water'), (0.46924633, 'water'))\n",
      "((7.815875, 'drink'), (0.36121622, 'drink'))\n",
      "((7.9930882, 'bag'), (0.30777472, 'bag'))\n",
      "((8.357532, 'brand'), (0.24772772, 'beer'))\n",
      "((8.363356, 'zero'), (0.22306392, 'chicken'))\n",
      "((8.674251, 'portfolio'), (0.21704932, 'brand'))\n",
      "((8.756122, 'beer'), (0.21394573, 'portfolio'))\n",
      "((8.903857, 'chicken'), (0.21145968, 'zero'))\n",
      "((9.026575, 'flotsam'), (0.11179688, 'marble'))\n",
      "((9.214224, 'plow'), (0.09283333, 'flower'))\n",
      "((9.328238, 'scar'), (0.09155338, 'dunk'))\n",
      "((9.336437, 'pilot'), (0.08240295, 'pilot'))\n",
      "((9.442704, 'worm'), (0.077028275, 'worm'))\n",
      "((9.500146, 'flower'), (0.067718804, 'scar'))\n",
      "((9.513062, 'marble'), (0.047251157, 'flotsam'))\n",
      "((9.542031, 'windmill'), (0.044647463, 'old'))\n",
      "((9.610797, 'crow'), (0.038094327, 'plow'))\n",
      "((9.638541, 'dunk'), (0.013391069, 'duck'))\n",
      "((9.668399, 'tutor'), (0.0011603528, 'windmill'))\n",
      "((9.703111, 'old'), (-0.0031345936, 'sash'))\n",
      "((9.848638, 'sash'), (-0.035396885, 'crow'))\n",
      "((9.859277, 'duck'), (-0.06568373, 'bald'))\n",
      "((9.968014, 'bald'), (-0.07363478, 'tutor'))\n",
      "((10.006819, 'blacksmith'), (-0.12615877, 'blacksmith'))\n",
      "((10.006819, 'blacksmith'), (-0.12615877, 'blacksmith'))\n"
     ]
    }
   ],
   "source": [
    "query = 'liquid'\n",
    "\n",
    "e_dist = []\n",
    "c_dist = []\n",
    "\n",
    "for w in session_words:\n",
    "    c_dist.append((cosine_dist(word_vec[w], word_vec[query]), w))\n",
    "    e_dist.append((euc_dist(word_vec[w], word_vec[query]), w))\n",
    "\n",
    "e_dist =sorted(e_dist, key=lambda x: x[0])\n",
    "c_dist =sorted(c_dist, key=lambda x: x[0], reverse=True)\n",
    "\n",
    "\n",
    "print(query)\n",
    "\n",
    "print(\"          euc dict    |      cosine dist\")\n",
    "print(\"********************************************\")\n",
    "for pair in zip(e_dist, c_dist):\n",
    "    print(pair)"
   ]
  },
  {
   "cell_type": "code",
   "execution_count": null,
   "metadata": {},
   "outputs": [],
   "source": []
  }
 ],
 "metadata": {
  "kernelspec": {
   "display_name": "Python 3",
   "language": "python",
   "name": "python3"
  },
  "language_info": {
   "codemirror_mode": {
    "name": "ipython",
    "version": 3
   },
   "file_extension": ".py",
   "mimetype": "text/x-python",
   "name": "python",
   "nbconvert_exporter": "python",
   "pygments_lexer": "ipython3",
   "version": "3.7.6"
  }
 },
 "nbformat": 4,
 "nbformat_minor": 2
}
