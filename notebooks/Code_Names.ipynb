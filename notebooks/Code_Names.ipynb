{
 "cells": [
  {
   "cell_type": "code",
   "execution_count": 6,
   "metadata": {},
   "outputs": [],
   "source": [
    "DATAPATH = \"data/\"\n",
    "\n",
    "import numpy as np\n",
    "import json"
   ]
  },
  {
   "cell_type": "markdown",
   "metadata": {},
   "source": [
    "# Enviroment Setup"
   ]
  },
  {
   "cell_type": "code",
   "execution_count": 3,
   "metadata": {},
   "outputs": [],
   "source": [
    "# Distance Funcs\n",
    "\n",
    "def cosine_dist(x, y):\n",
    "    return np.dot(x, y) / (np.sqrt(np.dot(x, x)) * np.sqrt(np.dot(y, y)))\n",
    "\n",
    "def euc_dist(x,y):\n",
    "    return np.sqrt(np.sum((x - y) ** 2))"
   ]
  },
  {
   "cell_type": "code",
   "execution_count": 4,
   "metadata": {},
   "outputs": [],
   "source": [
    "# Load embeddings \n",
    "\n",
    "embeddings_index = dict()\n",
    "\n",
    "with open(f'{DATAPATH}glove.6B.300d.txt',encoding=\"utf8\") as fp:\n",
    "    for line in fp:\n",
    "        values = line.split()\n",
    "        word = values[0]\n",
    "        coefs = np.asarray(values[1:], dtype='float32')\n",
    "        embeddings_index[word] = coefs\n",
    "\n",
    "word_vec = embeddings_index"
   ]
  },
  {
   "cell_type": "code",
   "execution_count": 7,
   "metadata": {},
   "outputs": [],
   "source": [
    "# Load game words\n",
    "with open(f\"{DATAPATH}lexicon.txt\",'r') as fp:\n",
    "    lexicon = json.load(fp)"
   ]
  },
  {
   "cell_type": "markdown",
   "metadata": {},
   "source": [
    "# Game Functions"
   ]
  },
  {
   "cell_type": "code",
   "execution_count": null,
   "metadata": {},
   "outputs": [],
   "source": [
    "class Board(object):\n",
    "    \n",
    "        def __init__(self,board_dim = 5, target_word_count = 8, bomb_word_count = 3):\n",
    "        board_dim = board_dim\n",
    "        target_word_count = target_word_count\n",
    "        bomb_word_count = bomb_word_count"
   ]
  },
  {
   "cell_type": "code",
   "execution_count": 14,
   "metadata": {},
   "outputs": [],
   "source": [
    "class Controller(object):\n",
    "    \n",
    "    def __init__(self,):\n",
    "        word_lexicon = loadGameWords()\n",
    "        self.current_game = None\n",
    "\n",
    "    def makeNewSession(self):\n",
    "        self.current_game = np.random.choice()\n",
    "        \n",
    "    def loadGameWords():\n",
    "        /*\n",
    "        \n",
    "        "
   ]
  },
  {
   "cell_type": "code",
   "execution_count": null,
   "metadata": {},
   "outputs": [],
   "source": [
    "def displayBoard(board):\n",
    "    "
   ]
  },
  {
   "cell_type": "code",
   "execution_count": null,
   "metadata": {},
   "outputs": [],
   "source": []
  },
  {
   "cell_type": "markdown",
   "metadata": {},
   "source": [
    "# Game Setup"
   ]
  },
  {
   "cell_type": "code",
   "execution_count": 42,
   "metadata": {},
   "outputs": [],
   "source": [
    "import random\n",
    "TGREEN =  '\\033[32m'\n",
    "TRED =  '\\033[31m'\n",
    "RESETC = '\\033[33m'"
   ]
  },
  {
   "cell_type": "code",
   "execution_count": 73,
   "metadata": {},
   "outputs": [],
   "source": [
    "session_words = np.random.choice(lexicon, size = BOARD_DIM**2)\n",
    "target_words = np.random.choice(session_words, TARGET_WORD_COUNT)\n",
    "bomb_words = random.sample(set(session_words).difference(set(target_words)), BOMB_WORD_COUNT)"
   ]
  },
  {
   "cell_type": "code",
   "execution_count": 74,
   "metadata": {},
   "outputs": [
    {
     "name": "stdout",
     "output_type": "stream",
     "text": [
      "\u001b[mretaliate \u001b[mchew      \u001b[32mfrance    \u001b[mbroken    \u001b[mjump      \n",
      "\u001b[mgallop    \u001b[mthrone    \u001b[32mpark      \u001b[mmold      \u001b[melevator  \n",
      "\u001b[mtool      \u001b[31mleg       \u001b[31mdryer     \u001b[mstoplight \u001b[32msprinkler \n",
      "\u001b[mhose      \u001b[32mlawnmower \u001b[31melephant  \u001b[32mwill      \u001b[32mfizz      \n",
      "\u001b[32mchurch    \u001b[32mhedge     \u001b[mblossom   \u001b[mebony     \u001b[mcape      \n"
     ]
    }
   ],
   "source": [
    "for rowIdx in range(int(len(session_words)/BOARD_DIM)):\n",
    "    for word in session_words[rowIdx*BOARD_DIM:rowIdx*BOARD_DIM + BOARD_DIM]:\n",
    "        if word in target_words:\n",
    "            c = TGREEN\n",
    "        elif word in bomb_words:\n",
    "            c = TRED\n",
    "        else:\n",
    "            c = RESETC\n",
    "        print(c+'{0:<10}'.format(word), end='')\n",
    "    print()"
   ]
  },
  {
   "cell_type": "code",
   "execution_count": 77,
   "metadata": {},
   "outputs": [
    {
     "name": "stdout",
     "output_type": "stream",
     "text": [
      "liquid\n",
      "          euc dict    |      cosine dist\n",
      "********************************************\n",
      "((8.133893, 'mold'), (0.26379135, 'hose'))\n",
      "((8.383874, 'hose'), (0.2517683, 'mold'))\n",
      "((8.482299, 'will'), (0.19086392, 'will'))\n",
      "((8.63248, 'tool'), (0.17804454, 'dryer'))\n",
      "((8.704504, 'broken'), (0.16059615, 'tool'))\n",
      "((8.893162, 'blossom'), (0.14851722, 'fizz'))\n",
      "((8.964705, 'dryer'), (0.12979388, 'broken'))\n",
      "((9.0731945, 'fizz'), (0.12771861, 'hedge'))\n",
      "((9.132778, 'jump'), (0.12183903, 'sprinkler'))\n",
      "((9.241112, 'hedge'), (0.09774899, 'blossom'))\n",
      "((9.303754, 'chew'), (0.08941029, 'chew'))\n",
      "((9.434494, 'retaliate'), (0.080655396, 'jump'))\n",
      "((9.468862, 'ebony'), (0.06256717, 'leg'))\n",
      "((9.47621, 'sprinkler'), (0.047150213, 'park'))\n",
      "((9.487057, 'elevator'), (0.043188598, 'ebony'))\n",
      "((9.611985, 'elephant'), (0.04231075, 'elevator'))\n",
      "((9.741436, 'leg'), (0.018372139, 'france'))\n",
      "((9.899394, 'lawnmower'), (0.0136182355, 'elephant'))\n",
      "((9.950523, 'park'), (-0.0052236947, 'retaliate'))\n",
      "((9.982727, 'gallop'), (-0.021692518, 'throne'))\n",
      "((10.0449505, 'stoplight'), (-0.02829961, 'church'))\n",
      "((10.155664, 'cape'), (-0.037332032, 'lawnmower'))\n",
      "((10.338035, 'france'), (-0.043429524, 'cape'))\n",
      "((10.461167, 'church'), (-0.08859068, 'stoplight'))\n",
      "((10.482637, 'throne'), (-0.10299495, 'gallop'))\n"
     ]
    }
   ],
   "source": [
    "query = 'liquid'\n",
    "\n",
    "e_dist = []\n",
    "c_dist = []\n",
    "\n",
    "for w in session_words:\n",
    "    c_dist.append((cosine_dist(word_vec[w], word_vec[query]), w))\n",
    "    e_dist.append((euc_dist(word_vec[w], word_vec[query]), w))\n",
    "\n",
    "e_dist =sorted(e_dist, key=lambda x: x[0])\n",
    "c_dist =sorted(c_dist, key=lambda x: x[0], reverse=True)\n",
    "\n",
    "\n",
    "print(query)\n",
    "\n",
    "print(\"          euc dict    |      cosine dist\")\n",
    "print(\"********************************************\")\n",
    "for pair in zip(e_dist, c_dist):\n",
    "    print(pair)"
   ]
  },
  {
   "cell_type": "code",
   "execution_count": null,
   "metadata": {},
   "outputs": [],
   "source": []
  }
 ],
 "metadata": {
  "kernelspec": {
   "display_name": "Python 3",
   "language": "python",
   "name": "python3"
  },
  "language_info": {
   "codemirror_mode": {
    "name": "ipython",
    "version": 3
   },
   "file_extension": ".py",
   "mimetype": "text/x-python",
   "name": "python",
   "nbconvert_exporter": "python",
   "pygments_lexer": "ipython3",
   "version": "3.7.4"
  }
 },
 "nbformat": 4,
 "nbformat_minor": 2
}
